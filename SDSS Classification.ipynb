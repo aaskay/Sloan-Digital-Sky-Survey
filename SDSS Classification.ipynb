{
 "cells": [
  {
   "cell_type": "markdown",
   "metadata": {},
   "source": [
    "<img src=\"https://trac.sdss.org/chrome/site/sdss.png\", width=300, height=300>"
   ]
  },
  {
   "cell_type": "markdown",
   "metadata": {},
   "source": [
    "I was searching for an astronomy dataset on Kaggle and came across this project (https://www.kaggle.com/lucidlenn/data-analysis-and-classification-using-xgboost).  I'd like to give credit to Lennart Grosser for a couple of the plots that I use in this notebook."
   ]
  },
  {
   "cell_type": "markdown",
   "metadata": {},
   "source": [
    "## Getting the data\n",
    "\n",
    "I used the CasJobs website which offers a SQL-based interface to query the databases that contain the SDSS data. The CasJobs system allows you to save the data returned from the query in csv format.\n",
    "\n",
    "For more information about how to get data from the SDSS see their Data Access Guide:\n",
    "\n",
    "http://www.sdss.org/dr14/data_access/\n",
    "\n",
    "I used the following query to retreive the data:\n",
    "\n",
    "<font size=\"2\">SELECT TOP 100000<br> \n",
    "p.objid,<br>\n",
    "p.ra,<br>\n",
    "p.dec,<br>\n",
    "p.cModelMag_u,<br>\n",
    "p.cModelMag_g,<br>\n",
    "p.cModelMag_r,<br>\n",
    "p.cModelMag_i,<br>\n",
    "p.cModelMag_z,<br>\n",
    "p.modelMag_u,<br>\n",
    "p.modelMag_g,<br>\n",
    "p.modelMag_r,<br>\n",
    "p.modelMag_i,<br>\n",
    "p.modelMag_z,<br>\n",
    "p.psfMag_u,<br>\n",
    "p.psfMag_g,<br>\n",
    "p.psfMag_r,<br>\n",
    "p.psfMag_i,<br>\n",
    "p.psfMag_z,<br>\n",
    "p.petroMag_u,<br>\n",
    "p.petroMag_g,<br>\n",
    "p.petroMag_r,<br>\n",
    "p.petroMag_i,<br>\n",
    "p.petroMag_z,<br>\n",
    "s.specobjid,<br>\n",
    "s.class,<br>\n",
    "s.z as redshift<br> \n",
    "FROM PhotoObj AS p <br>\n",
    "JOIN SpecObj AS s ON s.bestobjid = p.objid <br>\n",
    "WHERE <br>\n",
    "p.cModelMagErr_u BETWEEN 0 AND 0.5 <br>\n",
    "AND g BETWEEN 0 AND 20<br></font>"
   ]
  },
  {
   "cell_type": "code",
   "execution_count": 72,
   "metadata": {},
   "outputs": [],
   "source": [
    "%matplotlib inline\n",
    "import numpy as np\n",
    "import pandas as pd\n",
    "import matplotlib\n",
    "import matplotlib.pyplot as plt\n",
    "from sklearn.model_selection import train_test_split\n",
    "from sklearn.model_selection import GridSearchCV\n",
    "from sklearn.model_selection import RandomizedSearchCV\n",
    "from sklearn.model_selection import cross_val_score\n",
    "from sklearn.model_selection import KFold\n",
    "\n",
    "from sklearn.metrics import accuracy_score\n",
    "from sklearn.feature_selection import RFE\n",
    "from sklearn import preprocessing\n",
    "from sklearn.preprocessing import LabelEncoder\n",
    "\n",
    "#import xgboost as xgb\n",
    "import seaborn as sns\n",
    "from xgboost.sklearn import XGBClassifier\n",
    "from sklearn import metrics   #Additional scklearn functions\n",
    "\n",
    "sns.set_style('whitegrid')"
   ]
  },
  {
   "cell_type": "markdown",
   "metadata": {},
   "source": [
    "## Import the data"
   ]
  },
  {
   "cell_type": "markdown",
   "metadata": {},
   "source": [
    "Define the columns that we'll use and import the data from the csv file.  The cModelMag filter columns were chosen based on information at http://www.sdss3.org/dr8/algorithms/magnitudes.php#cmodel.  Specifically, under the section titled '**Which Magnitude Should I Use?**', we have the following: \"*...the cmodel magnitude is now an adequate proxy to use as a universal magnitude for all types of objects*\". "
   ]
  },
  {
   "cell_type": "code",
   "execution_count": 2,
   "metadata": {},
   "outputs": [],
   "source": [
    "myFeatures = ['ra','dec','cModelMag_u','cModelMag_g','cModelMag_r','cModelMag_i','cModelMag_z','redshift']\n",
    "myTargets = ['class']\n",
    "sdss_data = pd.read_csv('SDSS_Small.csv',usecols=myFeatures+myTargets)"
   ]
  },
  {
   "cell_type": "code",
   "execution_count": 3,
   "metadata": {},
   "outputs": [
    {
     "data": {
      "text/html": [
       "<div>\n",
       "<style>\n",
       "    .dataframe thead tr:only-child th {\n",
       "        text-align: right;\n",
       "    }\n",
       "\n",
       "    .dataframe thead th {\n",
       "        text-align: left;\n",
       "    }\n",
       "\n",
       "    .dataframe tbody tr th {\n",
       "        vertical-align: top;\n",
       "    }\n",
       "</style>\n",
       "<table border=\"1\" class=\"dataframe\">\n",
       "  <thead>\n",
       "    <tr style=\"text-align: right;\">\n",
       "      <th></th>\n",
       "      <th>ra</th>\n",
       "      <th>dec</th>\n",
       "      <th>cModelMag_u</th>\n",
       "      <th>cModelMag_g</th>\n",
       "      <th>cModelMag_r</th>\n",
       "      <th>cModelMag_i</th>\n",
       "      <th>cModelMag_z</th>\n",
       "      <th>redshift</th>\n",
       "    </tr>\n",
       "  </thead>\n",
       "  <tbody>\n",
       "    <tr>\n",
       "      <th>count</th>\n",
       "      <td>100000.000000</td>\n",
       "      <td>100000.000000</td>\n",
       "      <td>100000.000000</td>\n",
       "      <td>100000.000000</td>\n",
       "      <td>100000.000000</td>\n",
       "      <td>100000.000000</td>\n",
       "      <td>100000.000000</td>\n",
       "      <td>100000.000000</td>\n",
       "    </tr>\n",
       "    <tr>\n",
       "      <th>mean</th>\n",
       "      <td>166.055541</td>\n",
       "      <td>23.731244</td>\n",
       "      <td>20.225430</td>\n",
       "      <td>19.327067</td>\n",
       "      <td>18.591237</td>\n",
       "      <td>18.101205</td>\n",
       "      <td>17.822483</td>\n",
       "      <td>0.428903</td>\n",
       "    </tr>\n",
       "    <tr>\n",
       "      <th>std</th>\n",
       "      <td>54.308921</td>\n",
       "      <td>27.680679</td>\n",
       "      <td>1.594257</td>\n",
       "      <td>1.863996</td>\n",
       "      <td>1.810130</td>\n",
       "      <td>31.727315</td>\n",
       "      <td>31.724058</td>\n",
       "      <td>0.732729</td>\n",
       "    </tr>\n",
       "    <tr>\n",
       "      <th>min</th>\n",
       "      <td>7.103529</td>\n",
       "      <td>-8.726316</td>\n",
       "      <td>12.213560</td>\n",
       "      <td>11.838930</td>\n",
       "      <td>11.640730</td>\n",
       "      <td>-9999.000000</td>\n",
       "      <td>-9999.000000</td>\n",
       "      <td>-0.010875</td>\n",
       "    </tr>\n",
       "    <tr>\n",
       "      <th>25%</th>\n",
       "      <td>133.337574</td>\n",
       "      <td>0.006973</td>\n",
       "      <td>19.204385</td>\n",
       "      <td>17.968870</td>\n",
       "      <td>17.238028</td>\n",
       "      <td>16.861247</td>\n",
       "      <td>16.603260</td>\n",
       "      <td>0.000286</td>\n",
       "    </tr>\n",
       "    <tr>\n",
       "      <th>50%</th>\n",
       "      <td>170.917974</td>\n",
       "      <td>2.210404</td>\n",
       "      <td>20.159840</td>\n",
       "      <td>19.103310</td>\n",
       "      <td>18.388175</td>\n",
       "      <td>18.032325</td>\n",
       "      <td>17.805230</td>\n",
       "      <td>0.119169</td>\n",
       "    </tr>\n",
       "    <tr>\n",
       "      <th>75%</th>\n",
       "      <td>201.433359</td>\n",
       "      <td>53.893961</td>\n",
       "      <td>21.269670</td>\n",
       "      <td>20.930712</td>\n",
       "      <td>20.225847</td>\n",
       "      <td>19.656100</td>\n",
       "      <td>19.332583</td>\n",
       "      <td>0.510269</td>\n",
       "    </tr>\n",
       "    <tr>\n",
       "      <th>max</th>\n",
       "      <td>359.057135</td>\n",
       "      <td>68.542265</td>\n",
       "      <td>31.399920</td>\n",
       "      <td>31.516120</td>\n",
       "      <td>27.560070</td>\n",
       "      <td>27.111810</td>\n",
       "      <td>26.224870</td>\n",
       "      <td>7.011245</td>\n",
       "    </tr>\n",
       "  </tbody>\n",
       "</table>\n",
       "</div>"
      ],
      "text/plain": [
       "                  ra            dec    cModelMag_u    cModelMag_g  \\\n",
       "count  100000.000000  100000.000000  100000.000000  100000.000000   \n",
       "mean      166.055541      23.731244      20.225430      19.327067   \n",
       "std        54.308921      27.680679       1.594257       1.863996   \n",
       "min         7.103529      -8.726316      12.213560      11.838930   \n",
       "25%       133.337574       0.006973      19.204385      17.968870   \n",
       "50%       170.917974       2.210404      20.159840      19.103310   \n",
       "75%       201.433359      53.893961      21.269670      20.930712   \n",
       "max       359.057135      68.542265      31.399920      31.516120   \n",
       "\n",
       "         cModelMag_r    cModelMag_i    cModelMag_z       redshift  \n",
       "count  100000.000000  100000.000000  100000.000000  100000.000000  \n",
       "mean       18.591237      18.101205      17.822483       0.428903  \n",
       "std         1.810130      31.727315      31.724058       0.732729  \n",
       "min        11.640730   -9999.000000   -9999.000000      -0.010875  \n",
       "25%        17.238028      16.861247      16.603260       0.000286  \n",
       "50%        18.388175      18.032325      17.805230       0.119169  \n",
       "75%        20.225847      19.656100      19.332583       0.510269  \n",
       "max        27.560070      27.111810      26.224870       7.011245  "
      ]
     },
     "execution_count": 3,
     "metadata": {},
     "output_type": "execute_result"
    }
   ],
   "source": [
    "sdss_data.describe()"
   ]
  },
  {
   "cell_type": "code",
   "execution_count": 4,
   "metadata": {},
   "outputs": [
    {
     "data": {
      "text/plain": [
       "(100000, 9)"
      ]
     },
     "execution_count": 4,
     "metadata": {},
     "output_type": "execute_result"
    }
   ],
   "source": [
    "sdss_data.shape"
   ]
  },
  {
   "cell_type": "code",
   "execution_count": 5,
   "metadata": {},
   "outputs": [
    {
     "data": {
      "text/html": [
       "<div>\n",
       "<style>\n",
       "    .dataframe thead tr:only-child th {\n",
       "        text-align: right;\n",
       "    }\n",
       "\n",
       "    .dataframe thead th {\n",
       "        text-align: left;\n",
       "    }\n",
       "\n",
       "    .dataframe tbody tr th {\n",
       "        vertical-align: top;\n",
       "    }\n",
       "</style>\n",
       "<table border=\"1\" class=\"dataframe\">\n",
       "  <thead>\n",
       "    <tr style=\"text-align: right;\">\n",
       "      <th></th>\n",
       "      <th>ra</th>\n",
       "      <th>dec</th>\n",
       "      <th>cModelMag_u</th>\n",
       "      <th>cModelMag_g</th>\n",
       "      <th>cModelMag_r</th>\n",
       "      <th>cModelMag_i</th>\n",
       "      <th>cModelMag_z</th>\n",
       "      <th>class</th>\n",
       "      <th>redshift</th>\n",
       "    </tr>\n",
       "  </thead>\n",
       "  <tbody>\n",
       "    <tr>\n",
       "      <th>0</th>\n",
       "      <td>121.708487</td>\n",
       "      <td>0.874751</td>\n",
       "      <td>20.21815</td>\n",
       "      <td>22.58140</td>\n",
       "      <td>20.89326</td>\n",
       "      <td>19.72453</td>\n",
       "      <td>19.39296</td>\n",
       "      <td>GALAXY</td>\n",
       "      <td>0.772647</td>\n",
       "    </tr>\n",
       "    <tr>\n",
       "      <th>1</th>\n",
       "      <td>121.820752</td>\n",
       "      <td>0.931990</td>\n",
       "      <td>19.25371</td>\n",
       "      <td>17.32661</td>\n",
       "      <td>16.35287</td>\n",
       "      <td>15.97924</td>\n",
       "      <td>15.70117</td>\n",
       "      <td>GALAXY</td>\n",
       "      <td>0.101993</td>\n",
       "    </tr>\n",
       "    <tr>\n",
       "      <th>2</th>\n",
       "      <td>189.442222</td>\n",
       "      <td>-0.107420</td>\n",
       "      <td>20.01399</td>\n",
       "      <td>23.60228</td>\n",
       "      <td>21.05048</td>\n",
       "      <td>19.80330</td>\n",
       "      <td>20.26079</td>\n",
       "      <td>GALAXY</td>\n",
       "      <td>0.626115</td>\n",
       "    </tr>\n",
       "    <tr>\n",
       "      <th>3</th>\n",
       "      <td>119.930871</td>\n",
       "      <td>1.270970</td>\n",
       "      <td>20.26900</td>\n",
       "      <td>22.00403</td>\n",
       "      <td>20.04710</td>\n",
       "      <td>19.22714</td>\n",
       "      <td>18.37577</td>\n",
       "      <td>GALAXY</td>\n",
       "      <td>0.416734</td>\n",
       "    </tr>\n",
       "    <tr>\n",
       "      <th>4</th>\n",
       "      <td>110.264765</td>\n",
       "      <td>1.369211</td>\n",
       "      <td>20.56829</td>\n",
       "      <td>19.28037</td>\n",
       "      <td>18.67816</td>\n",
       "      <td>18.48124</td>\n",
       "      <td>18.32403</td>\n",
       "      <td>STAR</td>\n",
       "      <td>0.000386</td>\n",
       "    </tr>\n",
       "  </tbody>\n",
       "</table>\n",
       "</div>"
      ],
      "text/plain": [
       "           ra       dec  cModelMag_u  cModelMag_g  cModelMag_r  cModelMag_i  \\\n",
       "0  121.708487  0.874751     20.21815     22.58140     20.89326     19.72453   \n",
       "1  121.820752  0.931990     19.25371     17.32661     16.35287     15.97924   \n",
       "2  189.442222 -0.107420     20.01399     23.60228     21.05048     19.80330   \n",
       "3  119.930871  1.270970     20.26900     22.00403     20.04710     19.22714   \n",
       "4  110.264765  1.369211     20.56829     19.28037     18.67816     18.48124   \n",
       "\n",
       "   cModelMag_z   class  redshift  \n",
       "0     19.39296  GALAXY  0.772647  \n",
       "1     15.70117  GALAXY  0.101993  \n",
       "2     20.26079  GALAXY  0.626115  \n",
       "3     18.37577  GALAXY  0.416734  \n",
       "4     18.32403    STAR  0.000386  "
      ]
     },
     "execution_count": 5,
     "metadata": {},
     "output_type": "execute_result"
    }
   ],
   "source": [
    "sdss_data.head()"
   ]
  },
  {
   "cell_type": "markdown",
   "metadata": {},
   "source": [
    "Get a count of each type of class we are working to predict."
   ]
  },
  {
   "cell_type": "code",
   "execution_count": 6,
   "metadata": {},
   "outputs": [
    {
     "data": {
      "text/plain": [
       "GALAXY    52401\n",
       "STAR      30367\n",
       "QSO       17232\n",
       "Name: class, dtype: int64"
      ]
     },
     "execution_count": 6,
     "metadata": {},
     "output_type": "execute_result"
    }
   ],
   "source": [
    "sdss_data['class'].value_counts()"
   ]
  },
  {
   "cell_type": "markdown",
   "metadata": {},
   "source": [
    "We see that our data is not balanced between the classes."
   ]
  },
  {
   "cell_type": "code",
   "execution_count": 7,
   "metadata": {},
   "outputs": [],
   "source": [
    "sdss_features = sdss_data[myFeatures]\n",
    "sdss_targets = sdss_data[myTargets]"
   ]
  },
  {
   "cell_type": "code",
   "execution_count": 8,
   "metadata": {},
   "outputs": [
    {
     "data": {
      "text/html": [
       "<div>\n",
       "<style>\n",
       "    .dataframe thead tr:only-child th {\n",
       "        text-align: right;\n",
       "    }\n",
       "\n",
       "    .dataframe thead th {\n",
       "        text-align: left;\n",
       "    }\n",
       "\n",
       "    .dataframe tbody tr th {\n",
       "        vertical-align: top;\n",
       "    }\n",
       "</style>\n",
       "<table border=\"1\" class=\"dataframe\">\n",
       "  <thead>\n",
       "    <tr style=\"text-align: right;\">\n",
       "      <th></th>\n",
       "      <th>ra</th>\n",
       "      <th>dec</th>\n",
       "      <th>cModelMag_u</th>\n",
       "      <th>cModelMag_g</th>\n",
       "      <th>cModelMag_r</th>\n",
       "      <th>cModelMag_i</th>\n",
       "      <th>cModelMag_z</th>\n",
       "      <th>redshift</th>\n",
       "    </tr>\n",
       "  </thead>\n",
       "  <tbody>\n",
       "    <tr>\n",
       "      <th>0</th>\n",
       "      <td>121.708487</td>\n",
       "      <td>0.874751</td>\n",
       "      <td>20.21815</td>\n",
       "      <td>22.58140</td>\n",
       "      <td>20.89326</td>\n",
       "      <td>19.72453</td>\n",
       "      <td>19.39296</td>\n",
       "      <td>0.772647</td>\n",
       "    </tr>\n",
       "    <tr>\n",
       "      <th>1</th>\n",
       "      <td>121.820752</td>\n",
       "      <td>0.931990</td>\n",
       "      <td>19.25371</td>\n",
       "      <td>17.32661</td>\n",
       "      <td>16.35287</td>\n",
       "      <td>15.97924</td>\n",
       "      <td>15.70117</td>\n",
       "      <td>0.101993</td>\n",
       "    </tr>\n",
       "    <tr>\n",
       "      <th>2</th>\n",
       "      <td>189.442222</td>\n",
       "      <td>-0.107420</td>\n",
       "      <td>20.01399</td>\n",
       "      <td>23.60228</td>\n",
       "      <td>21.05048</td>\n",
       "      <td>19.80330</td>\n",
       "      <td>20.26079</td>\n",
       "      <td>0.626115</td>\n",
       "    </tr>\n",
       "    <tr>\n",
       "      <th>3</th>\n",
       "      <td>119.930871</td>\n",
       "      <td>1.270970</td>\n",
       "      <td>20.26900</td>\n",
       "      <td>22.00403</td>\n",
       "      <td>20.04710</td>\n",
       "      <td>19.22714</td>\n",
       "      <td>18.37577</td>\n",
       "      <td>0.416734</td>\n",
       "    </tr>\n",
       "    <tr>\n",
       "      <th>4</th>\n",
       "      <td>110.264765</td>\n",
       "      <td>1.369211</td>\n",
       "      <td>20.56829</td>\n",
       "      <td>19.28037</td>\n",
       "      <td>18.67816</td>\n",
       "      <td>18.48124</td>\n",
       "      <td>18.32403</td>\n",
       "      <td>0.000386</td>\n",
       "    </tr>\n",
       "  </tbody>\n",
       "</table>\n",
       "</div>"
      ],
      "text/plain": [
       "           ra       dec  cModelMag_u  cModelMag_g  cModelMag_r  cModelMag_i  \\\n",
       "0  121.708487  0.874751     20.21815     22.58140     20.89326     19.72453   \n",
       "1  121.820752  0.931990     19.25371     17.32661     16.35287     15.97924   \n",
       "2  189.442222 -0.107420     20.01399     23.60228     21.05048     19.80330   \n",
       "3  119.930871  1.270970     20.26900     22.00403     20.04710     19.22714   \n",
       "4  110.264765  1.369211     20.56829     19.28037     18.67816     18.48124   \n",
       "\n",
       "   cModelMag_z  redshift  \n",
       "0     19.39296  0.772647  \n",
       "1     15.70117  0.101993  \n",
       "2     20.26079  0.626115  \n",
       "3     18.37577  0.416734  \n",
       "4     18.32403  0.000386  "
      ]
     },
     "execution_count": 8,
     "metadata": {},
     "output_type": "execute_result"
    }
   ],
   "source": [
    "sdss_features.head()"
   ]
  },
  {
   "cell_type": "code",
   "execution_count": 209,
   "metadata": {},
   "outputs": [
    {
     "data": {
      "text/plain": [
       "<matplotlib.text.Text at 0x198b02133c8>"
      ]
     },
     "execution_count": 209,
     "metadata": {},
     "output_type": "execute_result"
    },
    {
     "data": {
      "image/png": "[encoded data removed]",
      "text/plain": [
       "<matplotlib.figure.Figure at 0x198af2cf208>"
      ]
     },
     "metadata": {},
     "output_type": "display_data"
    }
   ],
   "source": [
    "sns.pairplot(x_vars='ra', y_vars='dec', data=sdss_data, hue='class',palette=\"Set1\", size=5,\n",
    "             aspect=2,markers=[\"o\", \"s\", \"D\"],plot_kws={'alpha': 0.25})\n",
    "plt.title('Equatorial coordinates')"
   ]
  },
  {
   "cell_type": "markdown",
   "metadata": {},
   "source": [
    "Looking at the above plot of right ascention and declination for each of our class types, we see that there is no clear seperation in the positions of our objects. We can conclude that these features will not add any real predictive value to our model and therefore we can feel confident in dropping them from our dataset."
   ]
  },
  {
   "cell_type": "code",
   "execution_count": 9,
   "metadata": {},
   "outputs": [],
   "source": [
    "sdss_features = sdss_features.drop(['ra','dec'],axis=1)"
   ]
  },
  {
   "cell_type": "code",
   "execution_count": 10,
   "metadata": {},
   "outputs": [
    {
     "data": {
      "text/html": [
       "<div>\n",
       "<style>\n",
       "    .dataframe thead tr:only-child th {\n",
       "        text-align: right;\n",
       "    }\n",
       "\n",
       "    .dataframe thead th {\n",
       "        text-align: left;\n",
       "    }\n",
       "\n",
       "    .dataframe tbody tr th {\n",
       "        vertical-align: top;\n",
       "    }\n",
       "</style>\n",
       "<table border=\"1\" class=\"dataframe\">\n",
       "  <thead>\n",
       "    <tr style=\"text-align: right;\">\n",
       "      <th></th>\n",
       "      <th>cModelMag_u</th>\n",
       "      <th>cModelMag_g</th>\n",
       "      <th>cModelMag_r</th>\n",
       "      <th>cModelMag_i</th>\n",
       "      <th>cModelMag_z</th>\n",
       "      <th>redshift</th>\n",
       "    </tr>\n",
       "  </thead>\n",
       "  <tbody>\n",
       "    <tr>\n",
       "      <th>0</th>\n",
       "      <td>20.21815</td>\n",
       "      <td>22.58140</td>\n",
       "      <td>20.89326</td>\n",
       "      <td>19.72453</td>\n",
       "      <td>19.39296</td>\n",
       "      <td>0.772647</td>\n",
       "    </tr>\n",
       "    <tr>\n",
       "      <th>1</th>\n",
       "      <td>19.25371</td>\n",
       "      <td>17.32661</td>\n",
       "      <td>16.35287</td>\n",
       "      <td>15.97924</td>\n",
       "      <td>15.70117</td>\n",
       "      <td>0.101993</td>\n",
       "    </tr>\n",
       "    <tr>\n",
       "      <th>2</th>\n",
       "      <td>20.01399</td>\n",
       "      <td>23.60228</td>\n",
       "      <td>21.05048</td>\n",
       "      <td>19.80330</td>\n",
       "      <td>20.26079</td>\n",
       "      <td>0.626115</td>\n",
       "    </tr>\n",
       "    <tr>\n",
       "      <th>3</th>\n",
       "      <td>20.26900</td>\n",
       "      <td>22.00403</td>\n",
       "      <td>20.04710</td>\n",
       "      <td>19.22714</td>\n",
       "      <td>18.37577</td>\n",
       "      <td>0.416734</td>\n",
       "    </tr>\n",
       "    <tr>\n",
       "      <th>4</th>\n",
       "      <td>20.56829</td>\n",
       "      <td>19.28037</td>\n",
       "      <td>18.67816</td>\n",
       "      <td>18.48124</td>\n",
       "      <td>18.32403</td>\n",
       "      <td>0.000386</td>\n",
       "    </tr>\n",
       "  </tbody>\n",
       "</table>\n",
       "</div>"
      ],
      "text/plain": [
       "   cModelMag_u  cModelMag_g  cModelMag_r  cModelMag_i  cModelMag_z  redshift\n",
       "0     20.21815     22.58140     20.89326     19.72453     19.39296  0.772647\n",
       "1     19.25371     17.32661     16.35287     15.97924     15.70117  0.101993\n",
       "2     20.01399     23.60228     21.05048     19.80330     20.26079  0.626115\n",
       "3     20.26900     22.00403     20.04710     19.22714     18.37577  0.416734\n",
       "4     20.56829     19.28037     18.67816     18.48124     18.32403  0.000386"
      ]
     },
     "execution_count": 10,
     "metadata": {},
     "output_type": "execute_result"
    }
   ],
   "source": [
    "sdss_features.head()"
   ]
  },
  {
   "cell_type": "markdown",
   "metadata": {},
   "source": [
    "Now are dataset is only in terms of frequency filters and redshift."
   ]
  },
  {
   "cell_type": "markdown",
   "metadata": {},
   "source": [
    "### Redshift"
   ]
  },
  {
   "cell_type": "markdown",
   "metadata": {},
   "source": [
    "Looking at the redshift for each class of object, we see that the further away an object is the more redshifted it appears.  From these graphs, it looks like the redshift will be an important feature in classifying observations. "
   ]
  },
  {
   "cell_type": "code",
   "execution_count": 170,
   "metadata": {},
   "outputs": [
    {
     "data": {
      "image/png": "[encoded data removed]",
      "text/plain": [
       "<matplotlib.figure.Figure at 0x198b02d4128>"
      ]
     },
     "metadata": {},
     "output_type": "display_data"
    }
   ],
   "source": [
    "fig, axes = plt.subplots(nrows=1, ncols=3,figsize=(16, 4))\n",
    "ax0, ax1, ax2 = axes.flatten()\n",
    "\n",
    "n_bins = 20\n",
    "x = sdss_data[sdss_data['class']=='STAR'].redshift\n",
    "y = sdss_data[sdss_data['class']=='GALAXY'].redshift\n",
    "z = sdss_data[sdss_data['class']=='QSO'].redshift\n",
    "\n",
    "ax0.hist(x, bins = n_bins)\n",
    "ax0.set_title('Star')\n",
    "\n",
    "ax1.hist(y, bins = n_bins)\n",
    "ax1.set_title('Galaxy')\n",
    "\n",
    "ax2.hist(z, bins = n_bins)\n",
    "ax2.set_title('QSO')\n",
    "\n",
    "fig.tight_layout()\n",
    "plt.show()"
   ]
  },
  {
   "cell_type": "markdown",
   "metadata": {},
   "source": [
    "The plots above confirm our intuition that the further an object is from the observer, the more redshifted it will be.  Redshift will be a good predictor value but unfortunately, there is a bit of overlap between the reshift of some galaxies and some QSO's."
   ]
  },
  {
   "cell_type": "markdown",
   "metadata": {},
   "source": [
    "### Feature Corrolation Plot:"
   ]
  },
  {
   "cell_type": "code",
   "execution_count": 228,
   "metadata": {},
   "outputs": [
    {
     "data": {
      "image/png": "[encoded data removed]",
      "text/plain": [
       "<matplotlib.figure.Figure at 0x198b18afb70>"
      ]
     },
     "metadata": {},
     "output_type": "display_data"
    }
   ],
   "source": [
    "sns.set(style=\"white\")\n",
    "\n",
    "# Compute the correlation matrix\n",
    "corr = sdss_features.corr()\n",
    "\n",
    "# Set up the matplotlib figure\n",
    "fig, axes = plt.subplots(figsize=(8, 8))\n",
    "\n",
    "# Generate a custom diverging colormap\n",
    "cmap = sns.diverging_palette(220, 10, as_cmap=True)\n",
    "\n",
    "# Draw the heatmap with the mask and correct aspect ratio\n",
    "sns.heatmap(corr, cmap=cmap, vmax=.3, center=0,\n",
    "            square=True, linewidths=.5, cbar_kws={\"shrink\": .5})\n",
    "plt.yticks(rotation=0)\n",
    "plt.xticks(rotation=45)\n",
    "\n",
    "plt.show()"
   ]
  },
  {
   "cell_type": "markdown",
   "metadata": {},
   "source": [
    "We can see some correlation between the cModelMagnitudes for the u,g, and r filters as well as between the i and z filters.  There also seems to be some correlation between the cModelMagnitudes for the u,g, and r filters and redshift."
   ]
  },
  {
   "cell_type": "code",
   "execution_count": 13,
   "metadata": {},
   "outputs": [],
   "source": [
    "sdss_standardized_features = preprocessing.StandardScaler().fit(sdss_features).transform(sdss_features)\n",
    "features = np.array(sdss_standardized_features)\n",
    "targets = np.array(sdss_targets)"
   ]
  },
  {
   "cell_type": "markdown",
   "metadata": {},
   "source": [
    "#### Split the data into test and training subsets"
   ]
  },
  {
   "cell_type": "code",
   "execution_count": 14,
   "metadata": {},
   "outputs": [],
   "source": [
    "training_data, test_data, training_targets, test_targets = train_test_split(features, targets, test_size=0.25, random_state=42)"
   ]
  },
  {
   "cell_type": "markdown",
   "metadata": {},
   "source": [
    "#### Encode the targets.  XGBoost cannot use string classes directly"
   ]
  },
  {
   "cell_type": "code",
   "execution_count": 15,
   "metadata": {},
   "outputs": [],
   "source": [
    "# encode string class values as integers\n",
    "label_encoder = LabelEncoder()\n",
    "label_encoder = label_encoder.fit(training_targets.ravel())\n",
    "training_targets = label_encoder.transform(training_targets.ravel())\n",
    "label_encoder = label_encoder.fit(test_targets.ravel())\n",
    "test_targets = label_encoder.transform(test_targets.ravel())"
   ]
  },
  {
   "cell_type": "markdown",
   "metadata": {},
   "source": [
    "#### Define a basic XGBoost classifier"
   ]
  },
  {
   "cell_type": "code",
   "execution_count": 18,
   "metadata": {},
   "outputs": [],
   "source": [
    "# max_delta_step set to one since we have an embalance in classes.  Can help with convergence.\n",
    "xgb = XGBClassifier(max_delta_step=1,random_state=42)"
   ]
  },
  {
   "cell_type": "markdown",
   "metadata": {},
   "source": [
    "#### Fitting an XGBoost model with default parameters"
   ]
  },
  {
   "cell_type": "code",
   "execution_count": 19,
   "metadata": {},
   "outputs": [
    {
     "data": {
      "text/plain": [
       "XGBClassifier(base_score=0.5, booster='gbtree', colsample_bylevel=1,\n",
       "       colsample_bytree=1, gamma=0, learning_rate=0.1, max_delta_step=1,\n",
       "       max_depth=3, min_child_weight=1, missing=None, n_estimators=100,\n",
       "       n_jobs=1, nthread=None, objective='multi:softprob', random_state=42,\n",
       "       reg_alpha=0, reg_lambda=1, scale_pos_weight=1, seed=None,\n",
       "       silent=True, subsample=1)"
      ]
     },
     "execution_count": 19,
     "metadata": {},
     "output_type": "execute_result"
    }
   ],
   "source": [
    "xgb.fit(training_data, training_targets)"
   ]
  },
  {
   "cell_type": "markdown",
   "metadata": {},
   "source": [
    "Above we see the default parameters used by the classifier."
   ]
  },
  {
   "cell_type": "markdown",
   "metadata": {},
   "source": [
    "#### Make prediction and look at the accuracy"
   ]
  },
  {
   "cell_type": "code",
   "execution_count": 20,
   "metadata": {},
   "outputs": [
    {
     "name": "stdout",
     "output_type": "stream",
     "text": [
      "XGBoost's prediction accuracy is: 97.64\n"
     ]
    }
   ],
   "source": [
    "predictions = xgb.predict(test_data)\n",
    "xgb_accuracy = (predictions == test_targets).sum().astype(float) / len(predictions)*100\n",
    "print(\"XGBoost's prediction accuracy is: %3.2f\" % (xgb_accuracy))"
   ]
  },
  {
   "cell_type": "markdown",
   "metadata": {},
   "source": [
    "#### Use sklearn's RandomizedSearchCV to try and tune some parameters"
   ]
  },
  {
   "cell_type": "code",
   "execution_count": 98,
   "metadata": {},
   "outputs": [],
   "source": [
    "n_estimators = range(800,1600,100)\n",
    "max_tree_depth = [8] #range(3,9)\n",
    "eta = [0.1] #[0.01,0.05,0.1,0.5,1] #learning rate\n",
    "lmbda = [1,2,3,4] #[0.5,1,2]  #L2 regularization term on weights\n",
    "min_child_wt = [1,2,3]\n",
    "gamma = [0,0.1,0.5] #[0,1,2,4]  #Minimum loss reduction required to make a further partition on a leaf node of the tree."
   ]
  },
  {
   "cell_type": "code",
   "execution_count": 99,
   "metadata": {},
   "outputs": [],
   "source": [
    "xgbParams = {\n",
    "    'learning_rate':eta,\n",
    "    'gamma':gamma,\n",
    "    'n_estimators':n_estimators,\n",
    "    'reg_lambda':lmbda,\n",
    "    'max_depth':max_tree_depth,\n",
    "    'min_child_weight':min_child_wt\n",
    "}"
   ]
  },
  {
   "cell_type": "code",
   "execution_count": 100,
   "metadata": {},
   "outputs": [],
   "source": [
    "clf = RandomizedSearchCV(xgb,xgbParams)"
   ]
  },
  {
   "cell_type": "code",
   "execution_count": 101,
   "metadata": {},
   "outputs": [
    {
     "data": {
      "text/plain": [
       "RandomizedSearchCV(cv=None, error_score='raise',\n",
       "          estimator=XGBClassifier(base_score=0.5, booster='gbtree', colsample_bylevel=1,\n",
       "       colsample_bytree=1, gamma=0, learning_rate=0.1, max_delta_step=1,\n",
       "       max_depth=3, min_child_weight=1, missing=None, n_estimators=100,\n",
       "       n_jobs=1, nthread=None, objective='multi:softprob', random_state=42,\n",
       "       reg_alpha=0, reg_lambda=1, scale_pos_weight=1, seed=None,\n",
       "       silent=True, subsample=1),\n",
       "          fit_params=None, iid=True, n_iter=10, n_jobs=1,\n",
       "          param_distributions={'learning_rate': [0.1], 'gamma': [0, 0.1, 0.5], 'n_estimators': range(800, 1600, 100), 'reg_lambda': [1, 2, 3, 4], 'max_depth': [8], 'min_child_weight': [1, 2, 3]},\n",
       "          pre_dispatch='2*n_jobs', random_state=None, refit=True,\n",
       "          return_train_score=True, scoring=None, verbose=0)"
      ]
     },
     "execution_count": 101,
     "metadata": {},
     "output_type": "execute_result"
    }
   ],
   "source": [
    "clf.fit(training_data, training_targets)"
   ]
  },
  {
   "cell_type": "code",
   "execution_count": 102,
   "metadata": {},
   "outputs": [
    {
     "name": "stdout",
     "output_type": "stream",
     "text": [
      "XGBClassifier(base_score=0.5, booster='gbtree', colsample_bylevel=1,\n",
      "       colsample_bytree=1, gamma=0.5, learning_rate=0.1, max_delta_step=1,\n",
      "       max_depth=8, min_child_weight=1, missing=None, n_estimators=900,\n",
      "       n_jobs=1, nthread=None, objective='multi:softprob', random_state=42,\n",
      "       reg_alpha=0, reg_lambda=2, scale_pos_weight=1, seed=None,\n",
      "       silent=True, subsample=1)\n"
     ]
    }
   ],
   "source": [
    "clf_best_parameters = clf.best_estimator_\n",
    "print(clf_best_parameters)"
   ]
  },
  {
   "cell_type": "code",
   "execution_count": 103,
   "metadata": {},
   "outputs": [],
   "source": [
    "preds = clf.predict(test_data)"
   ]
  },
  {
   "cell_type": "code",
   "execution_count": 104,
   "metadata": {},
   "outputs": [
    {
     "name": "stdout",
     "output_type": "stream",
     "text": [
      "XGBoost's prediction accuracy is: 98.19\n"
     ]
    }
   ],
   "source": [
    "xgb_accuracy = (preds == test_targets).sum().astype(float) / len(preds)*100\n",
    "print(\"XGBoost's prediction accuracy is: %3.2f\" % (xgb_accuracy))"
   ]
  },
  {
   "cell_type": "markdown",
   "metadata": {},
   "source": [
    "We achieve a slight improvement by searching over a range of parameter values to try to hypertune the learning parameters of the model."
   ]
  },
  {
   "cell_type": "markdown",
   "metadata": {},
   "source": [
    "#### The Confusion Matrix"
   ]
  },
  {
   "cell_type": "code",
   "execution_count": 42,
   "metadata": {},
   "outputs": [],
   "source": [
    "from sklearn.metrics import confusion_matrix\n",
    "import itertools"
   ]
  },
  {
   "cell_type": "code",
   "execution_count": 105,
   "metadata": {},
   "outputs": [],
   "source": [
    "cm = confusion_matrix(test_targets, preds)\n",
    "classes = label_encoder.inverse_transform(test_targets)\n",
    "classes = np.unique(classes)"
   ]
  },
  {
   "cell_type": "code",
   "execution_count": 106,
   "metadata": {},
   "outputs": [
    {
     "data": {
      "image/png": "[encoded data removed]",
      "text/plain": [
       "<matplotlib.figure.Figure at 0x1989f268780>"
      ]
     },
     "metadata": {},
     "output_type": "display_data"
    }
   ],
   "source": [
    "plt.imshow(cm, interpolation='nearest', cmap=cmap)\n",
    "plt.title('Confusion matrix')\n",
    "plt.colorbar()\n",
    "tick_marks = np.arange(len(classes))\n",
    "plt.xticks(tick_marks, classes, rotation=45)\n",
    "plt.yticks(tick_marks, classes)\n",
    "\n",
    "#fmt = '.2f'\n",
    "fmt = 'd'\n",
    "thresh = cm.max() / 2.\n",
    "for i, j in itertools.product(range(cm.shape[0]), range(cm.shape[1])):\n",
    "    plt.text(j, i, format(cm[i, j], fmt),\n",
    "             horizontalalignment=\"center\",\n",
    "             color=\"white\" if cm[i, j] > thresh else \"black\")\n",
    "\n",
    "plt.tight_layout()\n",
    "plt.ylabel('True label')\n",
    "plt.xlabel('Predicted label')\n",
    "plt.show()"
   ]
  },
  {
   "cell_type": "markdown",
   "metadata": {},
   "source": [
    "The results are in line with what we saw in the redshift plots for the different classes of objects. Galaxies and QSO's are much harder to differentiate."
   ]
  },
  {
   "cell_type": "markdown",
   "metadata": {},
   "source": [
    "We have used the XGBoost classifier to predict with 98 percent accuracy the class (type) of stellar object for a given SDSS observation.  Further hypertuning of parameters might acheive a slight increase in accuracy but further research into the features available in the data would probably be the best way to increase accuracy of the model in its ability to differentiate galaxies from QSO's."
   ]
  },
  {
   "cell_type": "code",
   "execution_count": null,
   "metadata": {},
   "outputs": [],
   "source": []
  }
 ],
 "metadata": {
  "kernelspec": {
   "display_name": "Python 3",
   "language": "python",
   "name": "python3"
  },
  "language_info": {
   "codemirror_mode": {
    "name": "ipython",
    "version": 3
   },
   "file_extension": ".py",
   "mimetype": "text/x-python",
   "name": "python",
   "nbconvert_exporter": "python",
   "pygments_lexer": "ipython3",
   "version": "3.6.2"
  }
 },
 "nbformat": 4,
 "nbformat_minor": 2
}
